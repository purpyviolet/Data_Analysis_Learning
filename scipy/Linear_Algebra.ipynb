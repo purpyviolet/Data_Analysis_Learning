{
 "cells": [
  {
   "cell_type": "markdown",
   "metadata": {},
   "source": [
    "## 矩阵求逆（inv）\n"
   ]
  },
  {
   "cell_type": "code",
   "execution_count": 1,
   "metadata": {},
   "outputs": [
    {
     "name": "stdout",
     "output_type": "stream",
     "text": [
      "矩阵 A 的逆是：\n",
      "[[ 0.6 -0.7]\n",
      " [-0.2  0.4]]\n"
     ]
    }
   ],
   "source": [
    "import numpy as np\n",
    "from scipy.linalg import inv\n",
    "\n",
    "# 创建一个2x2矩阵\n",
    "A = np.array([[4, 7],\n",
    "              [2, 6]])\n",
    "\n",
    "# 计算矩阵的逆\n",
    "A_inv = inv(A)\n",
    "print(\"矩阵 A 的逆是：\")\n",
    "print(A_inv)\n"
   ]
  },
  {
   "cell_type": "markdown",
   "metadata": {},
   "source": [
    "## 矩阵行列式 (det)"
   ]
  },
  {
   "cell_type": "code",
   "execution_count": 2,
   "metadata": {},
   "outputs": [
    {
     "name": "stdout",
     "output_type": "stream",
     "text": [
      "矩阵 A 的行列式是： 9.999999999999998\n"
     ]
    }
   ],
   "source": [
    "from scipy.linalg import det\n",
    "\n",
    "# 计算矩阵的行列式\n",
    "det_A = det(A)\n",
    "print(\"矩阵 A 的行列式是：\", det_A)\n"
   ]
  },
  {
   "cell_type": "markdown",
   "metadata": {},
   "source": [
    "## 矩阵特征值和特征向量 (eig)"
   ]
  },
  {
   "cell_type": "code",
   "execution_count": 3,
   "metadata": {},
   "outputs": [
    {
     "name": "stdout",
     "output_type": "stream",
     "text": [
      "矩阵 A 的特征值是：\n",
      "[1.12701665+0.j 8.87298335+0.j]\n",
      "矩阵 A 的特征向量是：\n",
      "[[-0.92511345 -0.82071729]\n",
      " [ 0.37969079 -0.57133452]]\n"
     ]
    }
   ],
   "source": [
    "from scipy.linalg import eig\n",
    "\n",
    "# 计算矩阵的特征值和特征向量\n",
    "eigenvalues, eigenvectors = eig(A)\n",
    "print(\"矩阵 A 的特征值是：\")\n",
    "print(eigenvalues)\n",
    "print(\"矩阵 A 的特征向量是：\")\n",
    "print(eigenvectors)\n"
   ]
  },
  {
   "cell_type": "markdown",
   "metadata": {},
   "source": [
    "## 奇异值分解 (SVD) (svd)"
   ]
  },
  {
   "cell_type": "code",
   "execution_count": 4,
   "metadata": {},
   "outputs": [
    {
     "name": "stdout",
     "output_type": "stream",
     "text": [
      "矩阵 B 的奇异值分解：\n",
      "U 矩阵：\n",
      "[[-0.2298477   0.88346102  0.40824829]\n",
      " [-0.52474482  0.24078249 -0.81649658]\n",
      " [-0.81964194 -0.40189603  0.40824829]]\n",
      "奇异值：\n",
      "[9.52551809 0.51430058]\n",
      "Vh 矩阵：\n",
      "[[-0.61962948 -0.78489445]\n",
      " [-0.78489445  0.61962948]]\n"
     ]
    }
   ],
   "source": [
    "from scipy.linalg import svd\n",
    "\n",
    "# 创建一个矩阵\n",
    "B = np.array([[1, 2],\n",
    "              [3, 4],\n",
    "              [5, 6]])\n",
    "\n",
    "# 执行奇异值分解\n",
    "U, s, Vh = svd(B)\n",
    "\n",
    "print(\"矩阵 B 的奇异值分解：\")\n",
    "print(\"U 矩阵：\")\n",
    "print(U)\n",
    "print(\"奇异值：\")\n",
    "print(s)\n",
    "print(\"Vh 矩阵：\")\n",
    "print(Vh)\n"
   ]
  },
  {
   "cell_type": "markdown",
   "metadata": {},
   "source": [
    "## 求解线性方程组 (solve)"
   ]
  },
  {
   "cell_type": "code",
   "execution_count": 5,
   "metadata": {},
   "outputs": [
    {
     "name": "stdout",
     "output_type": "stream",
     "text": [
      "方程的解是：\n",
      "[0.  2.5]\n"
     ]
    }
   ],
   "source": [
    "from scipy.linalg import solve\n",
    "\n",
    "# 创建一个矩阵和一个常数向量\n",
    "A = np.array([[3, 2], [1, 2]])\n",
    "b = np.array([5, 5])\n",
    "\n",
    "# 求解方程 Ax = b\n",
    "x = solve(A, b)\n",
    "print(\"方程的解是：\")\n",
    "print(x)\n"
   ]
  },
  {
   "cell_type": "markdown",
   "metadata": {},
   "source": [
    "## 分块矩阵 (block_diag)"
   ]
  },
  {
   "cell_type": "code",
   "execution_count": 6,
   "metadata": {},
   "outputs": [
    {
     "name": "stdout",
     "output_type": "stream",
     "text": [
      "分块对角矩阵：\n",
      "[[1 2 0 0]\n",
      " [3 4 0 0]\n",
      " [0 0 5 6]\n",
      " [0 0 7 8]]\n"
     ]
    }
   ],
   "source": [
    "from scipy.linalg import block_diag\n",
    "\n",
    "# 创建两个矩阵\n",
    "A = np.array([[1, 2],\n",
    "              [3, 4]])\n",
    "\n",
    "B = np.array([[5, 6],\n",
    "              [7, 8]])\n",
    "\n",
    "# 创建一个分块对角矩阵\n",
    "block_matrix = block_diag(A, B)\n",
    "print(\"分块对角矩阵：\")\n",
    "print(block_matrix)\n"
   ]
  },
  {
   "cell_type": "markdown",
   "metadata": {},
   "source": [
    "下面是每个部分的原理及计算原理的详细讲解。\n",
    "\n",
    "---\n",
    "\n",
    "### **1. 矩阵求逆 (`inv`)**\n",
    "\n",
    "#### **原理：**\n",
    "- 矩阵的逆矩阵是指当矩阵与其逆矩阵相乘时，结果是单位矩阵（即对角线元素为 1，其他为 0 的矩阵）。对于一个方阵 \\(A\\)，如果存在矩阵 \\(A^{-1}\\) 使得：\n",
    "  \n",
    "  $A \\times A^{-1} = I$\n",
    "  \n",
    "  那么 \\(A\\) 就是可逆的。\n",
    "  \n",
    "#### **计算原理：**\n",
    "- 对于矩阵求逆，通常使用高斯消元法或LU分解来计算。LU分解将矩阵分解为一个下三角矩阵和上三角矩阵的乘积：\n",
    "  \n",
    "\n",
    "  $A = L \\times U$\n",
    "\n",
    "  \n",
    "  然后使用该分解来求解逆矩阵，进一步优化计算效率。\n",
    "\n",
    "---\n",
    "\n",
    "### **2. 矩阵行列式 (`det`)**\n",
    "\n",
    "#### **原理：**\n",
    "- 行列式是一个标量，它描述了矩阵的“体积”或“缩放因子”。行列式为零时，矩阵是奇异矩阵（即不可逆）。行列式的值决定了矩阵是否可逆：行列式不为零时，矩阵可逆。\n",
    "  \n",
    "  对于矩阵 \\(A\\)，其行列式是通过如下递归的方式计算的（以 \\(n \\times n\\) 矩阵为例）：\n",
    "\n",
    "\n",
    "  $\\text{det}(A) = \\sum_{i=1}^{n} (-1)^{i+j} A_{ij} \\text{det}(A_{ij})$\n",
    "\n",
    "  \n",
    "  其中 \\(A_{ij}\\) 是去除第 \\(i\\) 行和第 \\(j\\) 列后得到的子矩阵，称为代数余子式。\n",
    "\n",
    "#### **计算原理：**\n",
    "- 计算行列式最常用的方法是使用 **LU 分解** 或 **递归法**（也叫“展开”法），具体的实现方法可以利用行列式的性质进行优化。Scipy 使用的 `det` 函数通常会调用高效的分解算法来实现行列式的计算。\n",
    "\n",
    "---\n",
    "\n",
    "### **3. 矩阵特征值和特征向量 (`eig`)**\n",
    "\n",
    "#### **原理：**\n",
    "- 给定一个方阵 \\(A\\)，如果存在一个非零向量 \\(v\\) 和一个标量 \\(\\lambda\\)，使得：\n",
    "\n",
    "\n",
    "  $A \\times v = \\lambda \\times v$\n",
    "\n",
    "\n",
    "  那么 \\(\\lambda\\) 就是矩阵 \\(A\\) 的特征值，\\(v\\) 是对应的特征向量。\n",
    "  \n",
    "- 特征值和特征向量反映了矩阵的“伸缩”行为，特征向量是矩阵作用下“方向不变”的向量，特征值则表示该方向上的伸缩因子。\n",
    "\n",
    "#### **计算原理：**\n",
    "- 计算特征值和特征向量通常通过 **特征方程** 来实现。特征方程为：\n",
    "\n",
    "\n",
    "  $\\text{det}(A - \\lambda I) = 0$\n",
    "\n",
    "\n",
    "  其中 \\(I\\) 是单位矩阵，\\(\\lambda\\) 是特征值。通过求解该方程得到特征值，再通过将特征值代入矩阵 \\(A - \\lambda I\\) 计算出对应的特征向量。\n",
    "  \n",
    "- 常用的算法包括 **QR 算法** 和 **Jacobi 方法**，这些算法通过迭代求解特征值和特征向量。\n",
    "\n",
    "---\n",
    "\n",
    "### **4. 奇异值分解 (SVD) (`svd`)**\n",
    "\n",
    "#### **原理：**\n",
    "- 奇异值分解（Singular Value Decomposition，SVD）是一种矩阵分解方法，可以将一个任意形状的矩阵 \\(A\\) 分解为三个矩阵的乘积：\n",
    "  \n",
    "\n",
    "  $A = U \\Sigma V^T$\n",
    "\n",
    "  \n",
    "  - \\(U\\) 是一个 $m \\times m$ 的单位正交矩阵（左奇异向量）。\n",
    "  - $\\Sigma$ 是一个 $m \\times n$ 的对角矩阵，包含了奇异值。\n",
    "  - $V^T$ 是一个 $n \\times n$ 的单位正交矩阵（右奇异向量的转置）。\n",
    "\n",
    "#### **计算原理：**\n",
    "- SVD 的计算通常通过 **Jacobi 方法** 或 **Golub-Kahan 方法** 来进行，这些方法通过迭代逼近矩阵的特征值和特征向量。\n",
    "  \n",
    "- SVD 可以用于矩阵的降维、数据压缩和信号处理等应用中，因为奇异值反映了数据的主要信息。\n",
    "\n",
    "---\n",
    "\n",
    "### **5. 求解线性方程组 (`solve`)**\n",
    "\n",
    "#### **原理：**\n",
    "- 对于一个线性方程组 \\(Ax = b\\)，要求解未知向量 \\(x\\)，其中 \\(A\\) 是系数矩阵，\\(b\\) 是常数向量。\n",
    "  \n",
    "- 线性方程组的解可以通过多种方法求得，例如：\n",
    "  - **高斯消元法**：通过消去变量来逐步求解。\n",
    "  - **LU 分解**：将系数矩阵分解为下三角矩阵 \\(L\\) 和上三角矩阵 \\(U\\)，然后通过两个简单的三角方程求解。\n",
    "  \n",
    "#### **计算原理：**\n",
    "- `scipy.linalg.solve()` 使用 **LU 分解** 或其他高效算法（如 **Cholesky 分解**，对于对称正定矩阵）来求解线性方程组。\n",
    "  \n",
    "- 该方法的核心思想是将线性方程组转换为一个可以直接求解的三角方程组，从而提高计算效率。\n",
    "\n",
    "---\n",
    "\n",
    "### **6. 分块矩阵 (`block_diag`)**\n",
    "\n",
    "#### **原理：**\n",
    "- 分块矩阵是由多个子矩阵沿着对角线拼接而成的矩阵。假设有多个矩阵 \\(A\\), \\(B\\), ..., \\(N\\)，我们可以将它们组合成一个大的分块对角矩阵：\n",
    "  \n",
    "$\n",
    "  M = \\begin{pmatrix}\n",
    "  A & 0 & 0 & \\cdots \\\\\n",
    "  0 & B & 0 & \\cdots \\\\\n",
    "  0 & 0 & C & \\cdots \\\\\n",
    "  \\vdots & \\vdots & \\vdots & \\ddots\n",
    "  \\end{pmatrix}\n",
    "$\n",
    "\n",
    "#### **计算原理：**\n",
    "- `scipy.linalg.block_diag()` 通过将多个矩阵按照对角线位置排列形成一个新的矩阵。这种操作的计算是非常简单的，因为只需拼接矩阵，且不会进行额外的矩阵运算。\n",
    "\n",
    "- 分块矩阵常用于大规模问题的求解，尤其是在需要将一个大的矩阵分解为多个较小矩阵的情况下，例如多种物理系统的建模。\n"
   ]
  }
 ],
 "metadata": {
  "kernelspec": {
   "display_name": "base",
   "language": "python",
   "name": "python3"
  },
  "language_info": {
   "codemirror_mode": {
    "name": "ipython",
    "version": 3
   },
   "file_extension": ".py",
   "mimetype": "text/x-python",
   "name": "python",
   "nbconvert_exporter": "python",
   "pygments_lexer": "ipython3",
   "version": "3.11.5"
  }
 },
 "nbformat": 4,
 "nbformat_minor": 2
}
