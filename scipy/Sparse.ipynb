{
 "cells": [
  {
   "cell_type": "markdown",
   "metadata": {},
   "source": [
    "## 创建稀疏矩阵\n",
    "### csr_matrix (Compressed Sparse Row)"
   ]
  },
  {
   "cell_type": "code",
   "execution_count": 1,
   "metadata": {},
   "outputs": [
    {
     "name": "stdout",
     "output_type": "stream",
     "text": [
      "CSR Matrix:\n",
      "   (0, 0)\t4\n",
      "  (0, 2)\t5\n",
      "  (1, 2)\t7\n",
      "  (2, 0)\t9\n",
      "  (2, 1)\t8\n",
      "\n",
      "Dense format:\n",
      " [[4 0 5]\n",
      " [0 0 7]\n",
      " [9 8 0]]\n"
     ]
    }
   ],
   "source": [
    "from scipy.sparse import csr_matrix\n",
    "\n",
    "# 创建一个稀疏矩阵\n",
    "data = [4, 5, 7, 9, 8]\n",
    "rows = [0, 0, 1, 2, 2]\n",
    "cols = [0, 2, 2, 0, 1]\n",
    "\n",
    "# 使用 CSR 格式创建稀疏矩阵\n",
    "csr = csr_matrix((data, (rows, cols)), shape=(3, 3))\n",
    "print(\"CSR Matrix:\\n\", csr)\n",
    "print(\"\\nDense format:\\n\", csr.toarray())\n"
   ]
  },
  {
   "cell_type": "markdown",
   "metadata": {},
   "source": [
    "### csc_matrix (Compressed Sparse Column)"
   ]
  },
  {
   "cell_type": "code",
   "execution_count": 2,
   "metadata": {},
   "outputs": [
    {
     "name": "stdout",
     "output_type": "stream",
     "text": [
      "CSC Matrix:\n",
      "   (0, 0)\t4\n",
      "  (2, 0)\t9\n",
      "  (2, 1)\t8\n",
      "  (0, 2)\t5\n",
      "  (1, 2)\t7\n",
      "\n",
      "Dense format:\n",
      " [[4 0 5]\n",
      " [0 0 7]\n",
      " [9 8 0]]\n"
     ]
    }
   ],
   "source": [
    "from scipy.sparse import csc_matrix\n",
    "\n",
    "# 创建一个稀疏矩阵 (与上面的例子相同)\n",
    "csc = csc_matrix((data, (rows, cols)), shape=(3, 3))\n",
    "print(\"CSC Matrix:\\n\", csc)\n",
    "print(\"\\nDense format:\\n\", csc.toarray())\n"
   ]
  },
  {
   "cell_type": "markdown",
   "metadata": {},
   "source": [
    "## 稀疏矩阵运算"
   ]
  },
  {
   "cell_type": "markdown",
   "metadata": {},
   "source": [
    "### 加法"
   ]
  },
  {
   "cell_type": "code",
   "execution_count": 3,
   "metadata": {},
   "outputs": [
    {
     "name": "stdout",
     "output_type": "stream",
     "text": [
      "Matrix Addition:\n",
      " [[ 8  0  0]\n",
      " [ 0  8  3]\n",
      " [ 4  5 15]]\n"
     ]
    }
   ],
   "source": [
    "# 创建两个稀疏矩阵\n",
    "A = csr_matrix([[1, 0, 0], [0, 0, 3], [4, 5, 6]])\n",
    "B = csr_matrix([[7, 0, 0], [0, 8, 0], [0, 0, 9]])\n",
    "\n",
    "# 矩阵加法\n",
    "C = A + B\n",
    "print(\"Matrix Addition:\\n\", C.toarray())\n"
   ]
  },
  {
   "cell_type": "markdown",
   "metadata": {},
   "source": [
    "### 乘法"
   ]
  },
  {
   "cell_type": "code",
   "execution_count": 4,
   "metadata": {},
   "outputs": [
    {
     "name": "stdout",
     "output_type": "stream",
     "text": [
      "Matrix Multiplication:\n",
      " [[ 7  0  0]\n",
      " [ 0  0 27]\n",
      " [28 40 54]]\n"
     ]
    }
   ],
   "source": [
    "# 矩阵乘法\n",
    "D = A.dot(B)\n",
    "print(\"Matrix Multiplication:\\n\", D.toarray())\n"
   ]
  },
  {
   "cell_type": "markdown",
   "metadata": {},
   "source": [
    "### 逐元素运算"
   ]
  },
  {
   "cell_type": "code",
   "execution_count": 5,
   "metadata": {},
   "outputs": [
    {
     "name": "stdout",
     "output_type": "stream",
     "text": [
      "Element-wise Multiplication:\n",
      " [[ 7  0  0]\n",
      " [ 0  0  0]\n",
      " [ 0  0 54]]\n"
     ]
    }
   ],
   "source": [
    "# 逐元素运算\n",
    "E = A.multiply(B)  # 逐元素相乘\n",
    "print(\"Element-wise Multiplication:\\n\", E.toarray())\n"
   ]
  },
  {
   "cell_type": "markdown",
   "metadata": {},
   "source": [
    "### 转置"
   ]
  },
  {
   "cell_type": "code",
   "execution_count": 6,
   "metadata": {},
   "outputs": [
    {
     "name": "stdout",
     "output_type": "stream",
     "text": [
      "Matrix Transpose:\n",
      " [[1 0 4]\n",
      " [0 0 5]\n",
      " [0 3 6]]\n"
     ]
    }
   ],
   "source": [
    "# 矩阵转置\n",
    "F = A.transpose()\n",
    "print(\"Matrix Transpose:\\n\", F.toarray())\n"
   ]
  },
  {
   "cell_type": "markdown",
   "metadata": {},
   "source": [
    "## 稀疏矩阵存储和加载\n",
    "### 存储稀疏矩阵"
   ]
  },
  {
   "cell_type": "code",
   "execution_count": 7,
   "metadata": {},
   "outputs": [
    {
     "name": "stdout",
     "output_type": "stream",
     "text": [
      "Sparse matrix saved to 'sparse_matrix.npz'\n"
     ]
    }
   ],
   "source": [
    "from scipy.sparse import save_npz\n",
    "\n",
    "# 存储为 .npz 格式\n",
    "save_npz('sparse_matrix.npz', A)\n",
    "print(\"Sparse matrix saved to 'sparse_matrix.npz'\")\n"
   ]
  },
  {
   "cell_type": "markdown",
   "metadata": {},
   "source": [
    "### 加载稀疏矩阵"
   ]
  },
  {
   "cell_type": "code",
   "execution_count": 8,
   "metadata": {},
   "outputs": [
    {
     "name": "stdout",
     "output_type": "stream",
     "text": [
      "Loaded Sparse Matrix:\n",
      " [[1 0 0]\n",
      " [0 0 3]\n",
      " [4 5 6]]\n"
     ]
    }
   ],
   "source": [
    "from scipy.sparse import load_npz\n",
    "\n",
    "# 从 .npz 文件加载稀疏矩阵\n",
    "G = load_npz('sparse_matrix.npz')\n",
    "print(\"Loaded Sparse Matrix:\\n\", G.toarray())\n"
   ]
  },
  {
   "cell_type": "markdown",
   "metadata": {},
   "source": [
    "---\n",
    "\n",
    "### **总结**\n",
    "\n",
    "| **功能**                   | **方法**                  | **描述**                                             |\n",
    "|---------------------------|--------------------------|---------------------------------------------------|\n",
    "| **创建稀疏矩阵**              | `csr_matrix`, `csc_matrix` | 使用不同的稀疏格式创建矩阵（CSR 和 CSC）。                |\n",
    "| **稀疏矩阵运算**              | 加法、乘法、逐元素运算、转置 | 对稀疏矩阵执行常见的加法、乘法、逐元素运算、转置操作。      |\n",
    "| **稀疏矩阵存储和加载**        | `save_npz`, `load_npz`    | 将稀疏矩阵保存到文件中并从文件中加载。                    |\n",
    "\n"
   ]
  }
 ],
 "metadata": {
  "kernelspec": {
   "display_name": "base",
   "language": "python",
   "name": "python3"
  },
  "language_info": {
   "codemirror_mode": {
    "name": "ipython",
    "version": 3
   },
   "file_extension": ".py",
   "mimetype": "text/x-python",
   "name": "python",
   "nbconvert_exporter": "python",
   "pygments_lexer": "ipython3",
   "version": "3.11.5"
  }
 },
 "nbformat": 4,
 "nbformat_minor": 2
}
