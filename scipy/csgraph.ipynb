{
 "cells": [
  {
   "cell_type": "markdown",
   "metadata": {},
   "source": [
    "## 图的表示（邻接矩阵表示图）\n",
    "图可以通过稀疏矩阵表示，通常使用邻接矩阵来表示图中的节点和边。"
   ]
  },
  {
   "cell_type": "code",
   "execution_count": 5,
   "metadata": {},
   "outputs": [
    {
     "name": "stdout",
     "output_type": "stream",
     "text": [
      "Graph in Sparse Format:\n",
      "   (0, 1)\t1\n",
      "  (1, 0)\t1\n",
      "  (1, 2)\t1\n",
      "  (2, 1)\t1\n",
      "  (2, 3)\t1\n",
      "  (2, 4)\t1\n",
      "  (3, 2)\t1\n",
      "  (3, 5)\t1\n",
      "  (4, 2)\t1\n",
      "  (4, 5)\t1\n",
      "  (5, 3)\t1\n",
      "  (5, 4)\t1\n"
     ]
    }
   ],
   "source": [
    "from scipy.sparse import csr_matrix\n",
    "import numpy as np\n",
    "\n",
    "# 创建一个图的邻接矩阵\n",
    "graph = np.array([[0, 1, 0, 0, 0, 0],\n",
    "                  [1, 0, 1, 0, 0, 0],\n",
    "                  [0, 1, 0, 1, 1, 0],\n",
    "                  [0, 0, 1, 0, 0, 1],\n",
    "                  [0, 0, 1, 0, 0, 1],\n",
    "                  [0, 0, 0, 1, 1, 0]])\n",
    "\n",
    "# 将邻接矩阵转换为稀疏矩阵\n",
    "graph_sparse = csr_matrix(graph)\n",
    "print(\"Graph in Sparse Format:\\n\", graph_sparse)\n"
   ]
  },
  {
   "cell_type": "markdown",
   "metadata": {},
   "source": [
    "## 最短路径算法\n",
    "### shortest_path\n",
    "shortest_path 计算图中所有节点之间的最短路径，支持多种算法，包括 Dijkstra、Floyd-Warshall 等。"
   ]
  },
  {
   "cell_type": "code",
   "execution_count": 6,
   "metadata": {},
   "outputs": [
    {
     "name": "stdout",
     "output_type": "stream",
     "text": [
      "Shortest Path Distance Matrix:\n",
      " [[0. 1. 2. 3. 3. 4.]\n",
      " [1. 0. 1. 2. 2. 3.]\n",
      " [2. 1. 0. 1. 1. 2.]\n",
      " [3. 2. 1. 0. 2. 1.]\n",
      " [3. 2. 1. 2. 0. 1.]\n",
      " [4. 3. 2. 1. 1. 0.]]\n",
      "Predecessors:\n",
      " [[-9999     0     1     2     2     3]\n",
      " [    1 -9999     1     2     2     3]\n",
      " [    1     2 -9999     2     2     3]\n",
      " [    1     2     3 -9999     2     3]\n",
      " [    1     2     4     2 -9999     4]\n",
      " [    1     2     3     5     5 -9999]]\n"
     ]
    }
   ],
   "source": [
    "from scipy.sparse.csgraph import shortest_path\n",
    "\n",
    "# 计算最短路径\n",
    "dist_matrix, predecessors = shortest_path(graph_sparse, return_predecessors=True, method='auto', directed=False)\n",
    "print(\"Shortest Path Distance Matrix:\\n\", dist_matrix)\n",
    "print(\"Predecessors:\\n\", predecessors)\n"
   ]
  },
  {
   "cell_type": "markdown",
   "metadata": {},
   "source": [
    "### dijkstra\n",
    "dijkstra 算法是计算单源最短路径问题的经典算法。"
   ]
  },
  {
   "cell_type": "code",
   "execution_count": 7,
   "metadata": {},
   "outputs": [
    {
     "name": "stdout",
     "output_type": "stream",
     "text": [
      "Dijkstra Shortest Path Distances:\n",
      " [0. 1. 2. 3. 3. 4.]\n",
      "Dijkstra Predecessors:\n",
      " [-9999     0     1     2     2     3]\n"
     ]
    }
   ],
   "source": [
    "from scipy.sparse.csgraph import dijkstra\n",
    "\n",
    "# 计算从源节点0出发到所有其他节点的最短路径\n",
    "distances, predecessors = dijkstra(graph_sparse, return_predecessors=True, indices=0, directed=False)\n",
    "print(\"Dijkstra Shortest Path Distances:\\n\", distances)\n",
    "print(\"Dijkstra Predecessors:\\n\", predecessors)\n"
   ]
  },
  {
   "cell_type": "markdown",
   "metadata": {},
   "source": [
    "### floyd_warshall\n",
    "floyd_warshall 是一种全源最短路径算法，适用于计算任意两点之间的最短路径。"
   ]
  },
  {
   "cell_type": "code",
   "execution_count": 8,
   "metadata": {},
   "outputs": [
    {
     "name": "stdout",
     "output_type": "stream",
     "text": [
      "Floyd-Warshall Shortest Path Distance Matrix:\n",
      " [[0. 1. 2. 3. 3. 4.]\n",
      " [1. 0. 1. 2. 2. 3.]\n",
      " [2. 1. 0. 1. 1. 2.]\n",
      " [3. 2. 1. 0. 2. 1.]\n",
      " [3. 2. 1. 2. 0. 1.]\n",
      " [4. 3. 2. 1. 1. 0.]]\n"
     ]
    }
   ],
   "source": [
    "from scipy.sparse.csgraph import floyd_warshall\n",
    "\n",
    "# 计算所有节点之间的最短路径\n",
    "dist_matrix = floyd_warshall(graph_sparse, directed=False)\n",
    "print(\"Floyd-Warshall Shortest Path Distance Matrix:\\n\", dist_matrix)\n"
   ]
  },
  {
   "cell_type": "markdown",
   "metadata": {},
   "source": [
    "### bellman_ford\n",
    "bellman_ford 算法计算单源最短路径，并且可以处理边权为负的图。"
   ]
  },
  {
   "cell_type": "code",
   "execution_count": 9,
   "metadata": {},
   "outputs": [
    {
     "name": "stdout",
     "output_type": "stream",
     "text": [
      "Bellman-Ford Shortest Path Distances:\n",
      " [0. 1. 2. 3. 3. 4.]\n",
      "Bellman-Ford Predecessors:\n",
      " [-9999     0     1     2     2     3]\n"
     ]
    }
   ],
   "source": [
    "from scipy.sparse.csgraph import bellman_ford\n",
    "\n",
    "# 计算从源节点0出发的最短路径\n",
    "distances, predecessors = bellman_ford(graph_sparse, return_predecessors=True, indices=0, directed=False)\n",
    "print(\"Bellman-Ford Shortest Path Distances:\\n\", distances)\n",
    "print(\"Bellman-Ford Predecessors:\\n\", predecessors)\n"
   ]
  },
  {
   "cell_type": "markdown",
   "metadata": {},
   "source": [
    "## 最小生成树\n",
    "### minimum_spanning_tree\n",
    "计算一个图的最小生成树，返回一个稀疏矩阵表示的树。"
   ]
  },
  {
   "cell_type": "code",
   "execution_count": 10,
   "metadata": {},
   "outputs": [
    {
     "name": "stdout",
     "output_type": "stream",
     "text": [
      "Minimum Spanning Tree:\n",
      " [[0. 1. 0. 0. 0. 0.]\n",
      " [0. 0. 1. 0. 0. 0.]\n",
      " [0. 0. 0. 1. 1. 0.]\n",
      " [0. 0. 0. 0. 0. 1.]\n",
      " [0. 0. 0. 0. 0. 0.]\n",
      " [0. 0. 0. 0. 0. 0.]]\n"
     ]
    }
   ],
   "source": [
    "from scipy.sparse.csgraph import minimum_spanning_tree\n",
    "\n",
    "# 计算最小生成树\n",
    "mst = minimum_spanning_tree(graph_sparse)\n",
    "print(\"Minimum Spanning Tree:\\n\", mst.toarray())\n"
   ]
  },
  {
   "cell_type": "markdown",
   "metadata": {},
   "source": [
    "### kruskal\n",
    "kruskal 算法是另一种用于计算最小生成树的算法，特别适用于稀疏图。"
   ]
  },
  {
   "cell_type": "code",
   "execution_count": 12,
   "metadata": {},
   "outputs": [
    {
     "name": "stdout",
     "output_type": "stream",
     "text": [
      "Kruskal's Minimum Spanning Tree edges: [(0, 1, {'weight': 1}), (1, 2, {'weight': 2}), (2, 3, {'weight': 1}), (2, 5, {'weight': 2}), (4, 5, {'weight': 1})]\n"
     ]
    }
   ],
   "source": [
    "# from scipy.sparse.csgraph import kruskal\n",
    "\n",
    "# # 计算最小生成树\n",
    "# mst_kruskal = kruskal(graph_sparse)\n",
    "# print(\"Kruskal's Minimum Spanning Tree:\\n\", mst_kruskal.toarray())\n",
    "\n",
    "import networkx as nx\n",
    "\n",
    "# 创建图\n",
    "G = nx.Graph()\n",
    "\n",
    "# 添加带权重的边\n",
    "G.add_edges_from([(0, 1, {'weight': 1}),\n",
    "                  (1, 2, {'weight': 2}),\n",
    "                  (2, 3, {'weight': 1}),\n",
    "                  (0, 4, {'weight': 3}),\n",
    "                  (4, 5, {'weight': 1}),\n",
    "                  (2, 5, {'weight': 2})])\n",
    "\n",
    "# 使用 Kruskal 算法计算最小生成树\n",
    "mst_kruskal = nx.minimum_spanning_tree(G, algorithm='kruskal')\n",
    "\n",
    "# 显示最小生成树的边\n",
    "print(\"Kruskal's Minimum Spanning Tree edges:\", mst_kruskal.edges(data=True))\n",
    "\n"
   ]
  },
  {
   "cell_type": "markdown",
   "metadata": {},
   "source": [
    "## 连通分量分析\n",
    "### connected_components\n",
    "计算图的连通分量，即将图中的节点划分为若干个连通子图。"
   ]
  },
  {
   "cell_type": "code",
   "execution_count": 13,
   "metadata": {},
   "outputs": [
    {
     "name": "stdout",
     "output_type": "stream",
     "text": [
      "Number of connected components: 1\n",
      "Labels for connected components: [0 0 0 0 0 0]\n"
     ]
    }
   ],
   "source": [
    "from scipy.sparse.csgraph import connected_components\n",
    "\n",
    "# 计算连通分量\n",
    "n_components, labels = connected_components(graph_sparse, directed=False)\n",
    "print(\"Number of connected components:\", n_components)\n",
    "print(\"Labels for connected components:\", labels)\n"
   ]
  },
  {
   "cell_type": "markdown",
   "metadata": {},
   "source": [
    "\n",
    "\n",
    "### **总结**\n",
    "\n",
    "| **算法**                | **方法**                    | **描述**                                                      |\n",
    "|------------------------|----------------------------|--------------------------------------------------------------|\n",
    "| **图的表示**             | `csr_matrix`               | 使用稀疏矩阵（CSR 格式）表示图的邻接矩阵。                            |\n",
    "| **最短路径算法**          | `shortest_path`            | 计算所有节点之间的最短路径，支持 Dijkstra、Floyd-Warshall 等。     |\n",
    "| **最短路径算法**          | `dijkstra`                 | 计算单源最短路径，经典的 Dijkstra 算法。                              |\n",
    "| **最短路径算法**          | `floyd_warshall`           | 计算全源最短路径，Floyd-Warshall 算法。                              |\n",
    "| **最短路径算法**          | `bellman_ford`             | 计算单源最短路径，可以处理负权边。                                     |\n",
    "| **最小生成树**            | `minimum_spanning_tree`    | 使用 Prim 算法计算图的最小生成树。                                    |\n",
    "| **最小生成树**            | `kruskal`                  | 使用 Kruskal 算法计算图的最小生成树，适用于稀疏图。                   |\n",
    "| **连通分量分析**          | `connected_components`     | 计算图的连通分量，返回分量数和节点标签。                             |\n",
    "\n"
   ]
  }
 ],
 "metadata": {
  "kernelspec": {
   "display_name": "base",
   "language": "python",
   "name": "python3"
  },
  "language_info": {
   "codemirror_mode": {
    "name": "ipython",
    "version": 3
   },
   "file_extension": ".py",
   "mimetype": "text/x-python",
   "name": "python",
   "nbconvert_exporter": "python",
   "pygments_lexer": "ipython3",
   "version": "3.11.5"
  }
 },
 "nbformat": 4,
 "nbformat_minor": 2
}
