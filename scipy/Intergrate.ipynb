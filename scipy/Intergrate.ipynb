{
 "cells": [
  {
   "cell_type": "markdown",
   "metadata": {},
   "source": [
    "## 一维积分：quad，dblquad，tplquad"
   ]
  },
  {
   "cell_type": "markdown",
   "metadata": {},
   "source": [
    "### quad（单变量积分）\n",
    "quad 用于计算单变量函数的定积分。"
   ]
  },
  {
   "cell_type": "code",
   "execution_count": 1,
   "metadata": {},
   "outputs": [
    {
     "name": "stdout",
     "output_type": "stream",
     "text": [
      "Result of integral: 8.666666666666668, Estimated error: 9.621932880084691e-14\n"
     ]
    }
   ],
   "source": [
    "from scipy.integrate import quad\n",
    "\n",
    "# 定义被积函数\n",
    "def f(x):\n",
    "    return x**2 + 3\n",
    "\n",
    "# 计算积分\n",
    "result, error = quad(f, 0, 2)  # 在区间 [0, 2] 上积分\n",
    "print(f\"Result of integral: {result}, Estimated error: {error}\")\n"
   ]
  },
  {
   "cell_type": "markdown",
   "metadata": {},
   "source": [
    "### dblquad（双重积分）\n",
    "dblquad 用于计算双重积分。"
   ]
  },
  {
   "cell_type": "code",
   "execution_count": 2,
   "metadata": {},
   "outputs": [
    {
     "name": "stdout",
     "output_type": "stream",
     "text": [
      "Result of double integral: 3.333333333333334, Estimated error: 5.1714082159146356e-14\n"
     ]
    }
   ],
   "source": [
    "from scipy.integrate import dblquad\n",
    "\n",
    "# 定义被积函数\n",
    "def f(x, y):\n",
    "    return x**2 + y**2\n",
    "\n",
    "# 计算积分\n",
    "result, error = dblquad(f, 0, 1, lambda x: 0, lambda x: 2)  # x ∈ [0, 1], y ∈ [0, 2]\n",
    "print(f\"Result of double integral: {result}, Estimated error: {error}\")\n"
   ]
  },
  {
   "cell_type": "markdown",
   "metadata": {},
   "source": [
    "### tplquad（三重积分）\n",
    "tplquad 用于计算三重积分。"
   ]
  },
  {
   "cell_type": "code",
   "execution_count": 3,
   "metadata": {},
   "outputs": [
    {
     "name": "stdout",
     "output_type": "stream",
     "text": [
      "Result of triple integral: 0.49999999999999994, Estimated error: 2.2108134835808843e-14\n"
     ]
    }
   ],
   "source": [
    "from scipy.integrate import tplquad\n",
    "\n",
    "# 定义被积函数\n",
    "def f(x, y, z):\n",
    "    return x * y * z\n",
    "\n",
    "# 计算积分\n",
    "result, error = tplquad(f, 0, 1,  # z ∈ [0, 1]\n",
    "                        lambda z: 0, lambda z: 1,  # y ∈ [0, 1]\n",
    "                        lambda y, z: 0, lambda y, z: 2)  # x ∈ [0, 2]\n",
    "print(f\"Result of triple integral: {result}, Estimated error: {error}\")\n"
   ]
  },
  {
   "cell_type": "markdown",
   "metadata": {},
   "source": [
    "### 多维积分：nquad\n",
    "nquad 是用于计算任意维度积分的通用工具。"
   ]
  },
  {
   "cell_type": "code",
   "execution_count": 4,
   "metadata": {},
   "outputs": [
    {
     "name": "stdout",
     "output_type": "stream",
     "text": [
      "Result of n-dimensional integral: 3.3333333333333335, Estimated error: 4.7917013087034885e-14\n"
     ]
    }
   ],
   "source": [
    "from scipy.integrate import nquad\n",
    "\n",
    "# 定义被积函数\n",
    "def f(x, y):\n",
    "    return x**2 + y**2\n",
    "\n",
    "# 定义积分范围\n",
    "bounds = [(0, 1), (0, 2)]  # x ∈ [0, 1], y ∈ [0, 2]\n",
    "\n",
    "# 计算积分\n",
    "result, error = nquad(f, bounds)\n",
    "print(f\"Result of n-dimensional integral: {result}, Estimated error: {error}\")\n"
   ]
  },
  {
   "cell_type": "markdown",
   "metadata": {},
   "source": [
    "## 常微分方程求解\n",
    "常微分方程 (ODE) 求解：solve_ivp\n",
    "\n",
    "solve_ivp 是用于求解常微分方程的通用工具，支持多种求解方法。"
   ]
  },
  {
   "cell_type": "code",
   "execution_count": 5,
   "metadata": {},
   "outputs": [
    {
     "data": {
      "image/png": "[encoded data removed]",
      "text/plain": [
       "<Figure size 640x480 with 1 Axes>"
      ]
     },
     "metadata": {},
     "output_type": "display_data"
    }
   ],
   "source": [
    "from scipy.integrate import solve_ivp\n",
    "import numpy as np\n",
    "import matplotlib.pyplot as plt\n",
    "\n",
    "# 定义微分方程 dy/dt = -2 * y\n",
    "def dydt(t, y):\n",
    "    return -2 * y\n",
    "\n",
    "# 定义初始条件和时间范围\n",
    "t_span = (0, 5)  # 时间范围\n",
    "y0 = [1]  # 初始条件\n",
    "\n",
    "# 求解 ODE\n",
    "solution = solve_ivp(dydt, t_span, y0, method='RK45', t_eval=np.linspace(0, 5, 100))\n",
    "\n",
    "# 可视化结果\n",
    "plt.plot(solution.t, solution.y[0])\n",
    "plt.xlabel('Time')\n",
    "plt.ylabel('y(t)')\n",
    "plt.title('ODE Solution using solve_ivp')\n",
    "plt.grid(True)\n",
    "plt.show()\n"
   ]
  },
  {
   "cell_type": "markdown",
   "metadata": {},
   "source": [
    "## 数值微分：derivative，quad_explain"
   ]
  },
  {
   "cell_type": "markdown",
   "metadata": {},
   "source": [
    "### derivative（数值微分）\n",
    "derivative 用于计算函数的导数，适用于简单的函数。"
   ]
  },
  {
   "cell_type": "code",
   "execution_count": 6,
   "metadata": {},
   "outputs": [
    {
     "name": "stdout",
     "output_type": "stream",
     "text": [
      "First derivative at x=2: 21.00000000204716\n",
      "Second derivative at x=2: 16.004975122996257\n"
     ]
    },
    {
     "name": "stderr",
     "output_type": "stream",
     "text": [
      "C:\\Users\\epiph\\AppData\\Local\\Temp\\ipykernel_18832\\766633581.py:9: DeprecationWarning: scipy.misc.derivative is deprecated in SciPy v1.10.0; and will be completely removed in SciPy v1.12.0. You may consider using findiff: https://github.com/maroba/findiff or numdifftools: https://github.com/pbrod/numdifftools\n",
      "  first_derivative = derivative(f, x0, dx=1e-6, n=1)  # 一阶导数\n",
      "C:\\Users\\epiph\\AppData\\Local\\Temp\\ipykernel_18832\\766633581.py:10: DeprecationWarning: scipy.misc.derivative is deprecated in SciPy v1.10.0; and will be completely removed in SciPy v1.12.0. You may consider using findiff: https://github.com/maroba/findiff or numdifftools: https://github.com/pbrod/numdifftools\n",
      "  second_derivative = derivative(f, x0, dx=1e-6, n=2)  # 二阶导数\n"
     ]
    }
   ],
   "source": [
    "from scipy.misc import derivative\n",
    "\n",
    "# 定义函数\n",
    "def f(x):\n",
    "    return x**3 + 2 * x**2 + x\n",
    "\n",
    "# 计算导数\n",
    "x0 = 2\n",
    "first_derivative = derivative(f, x0, dx=1e-6, n=1)  # 一阶导数\n",
    "second_derivative = derivative(f, x0, dx=1e-6, n=2)  # 二阶导数\n",
    "\n",
    "print(f\"First derivative at x={x0}: {first_derivative}\")\n",
    "print(f\"Second derivative at x={x0}: {second_derivative}\")\n"
   ]
  },
  {
   "cell_type": "markdown",
   "metadata": {},
   "source": [
    "### quad_explain（版本限制）\n",
    "quad_explain 提供关于 quad 方法的详细信息和计算原理。"
   ]
  },
  {
   "cell_type": "code",
   "execution_count": 8,
   "metadata": {},
   "outputs": [],
   "source": [
    "# from scipy.integrate import quad_explain\n",
    "\n",
    "# # 显示 quad 的详细信息\n",
    "# quad_explain()\n"
   ]
  },
  {
   "cell_type": "markdown",
   "metadata": {},
   "source": [
    "---\n",
    "### **总结**\n",
    "\n",
    "| **方法**             | **描述**                                                                                   |\n",
    "|----------------------|-------------------------------------------------------------------------------------------|\n",
    "| **`quad`**           | 单变量函数的数值积分。                                                                      |\n",
    "| **`dblquad`**        | 双变量函数的数值积分。                                                                      |\n",
    "| **`tplquad`**        | 三变量函数的数值积分。                                                                      |\n",
    "| **`nquad`**          | 任意维度的函数积分。                                                                        |\n",
    "| **`solve_ivp`**      | 用于求解常微分方程，支持多种求解算法（如 RK45、RK23、BDF 等）。                              |\n",
    "| **`derivative`**     | 用于计算函数的一阶或高阶导数。                                                              |\n",
    "| **`quad_explain`**   | 提供关于 `quad` 方法的详细信息。                                                             |\n"
   ]
  }
 ],
 "metadata": {
  "kernelspec": {
   "display_name": "base",
   "language": "python",
   "name": "python3"
  },
  "language_info": {
   "codemirror_mode": {
    "name": "ipython",
    "version": 3
   },
   "file_extension": ".py",
   "mimetype": "text/x-python",
   "name": "python",
   "nbconvert_exporter": "python",
   "pygments_lexer": "ipython3",
   "version": "3.11.5"
  }
 },
 "nbformat": 4,
 "nbformat_minor": 2
}
