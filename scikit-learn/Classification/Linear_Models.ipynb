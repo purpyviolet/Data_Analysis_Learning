{
 "cells": [
  {
   "cell_type": "markdown",
   "metadata": {},
   "source": [
    "## Logistic Regression (逻辑回归)"
   ]
  },
  {
   "cell_type": "code",
   "execution_count": 1,
   "metadata": {},
   "outputs": [
    {
     "name": "stdout",
     "output_type": "stream",
     "text": [
      "Logistic Regression:\n",
      "               precision    recall  f1-score   support\n",
      "\n",
      "           0       0.82      0.88      0.85       145\n",
      "           1       0.88      0.83      0.85       155\n",
      "\n",
      "    accuracy                           0.85       300\n",
      "   macro avg       0.85      0.85      0.85       300\n",
      "weighted avg       0.85      0.85      0.85       300\n",
      "\n"
     ]
    }
   ],
   "source": [
    "from sklearn.datasets import make_classification\n",
    "from sklearn.linear_model import LogisticRegression\n",
    "from sklearn.model_selection import train_test_split\n",
    "from sklearn.metrics import classification_report\n",
    "\n",
    "# Generate synthetic dataset\n",
    "X, y = make_classification(n_samples=1000, n_features=20, n_classes=2, random_state=42)\n",
    "X_train, X_test, y_train, y_test = train_test_split(X, y, test_size=0.3, random_state=42)\n",
    "\n",
    "# Logistic Regression\n",
    "model = LogisticRegression()\n",
    "model.fit(X_train, y_train)\n",
    "y_pred = model.predict(X_test)\n",
    "\n",
    "print(\"Logistic Regression:\\n\", classification_report(y_test, y_pred))\n"
   ]
  },
  {
   "cell_type": "markdown",
   "metadata": {},
   "source": [
    "## Ridge Classifier (岭分类器)"
   ]
  },
  {
   "cell_type": "code",
   "execution_count": 2,
   "metadata": {},
   "outputs": [
    {
     "name": "stdout",
     "output_type": "stream",
     "text": [
      "Ridge Classifier:\n",
      "               precision    recall  f1-score   support\n",
      "\n",
      "           0       0.82      0.89      0.85       145\n",
      "           1       0.89      0.81      0.85       155\n",
      "\n",
      "    accuracy                           0.85       300\n",
      "   macro avg       0.85      0.85      0.85       300\n",
      "weighted avg       0.85      0.85      0.85       300\n",
      "\n"
     ]
    }
   ],
   "source": [
    "from sklearn.linear_model import RidgeClassifier\n",
    "\n",
    "# Ridge Classifier\n",
    "model = RidgeClassifier()\n",
    "model.fit(X_train, y_train)\n",
    "y_pred = model.predict(X_test)\n",
    "\n",
    "print(\"Ridge Classifier:\\n\", classification_report(y_test, y_pred))\n"
   ]
  },
  {
   "cell_type": "markdown",
   "metadata": {},
   "source": [
    "## Perceptron (感知机)"
   ]
  },
  {
   "cell_type": "code",
   "execution_count": 3,
   "metadata": {},
   "outputs": [
    {
     "name": "stdout",
     "output_type": "stream",
     "text": [
      "Perceptron:\n",
      "               precision    recall  f1-score   support\n",
      "\n",
      "           0       0.85      0.82      0.84       145\n",
      "           1       0.84      0.86      0.85       155\n",
      "\n",
      "    accuracy                           0.84       300\n",
      "   macro avg       0.84      0.84      0.84       300\n",
      "weighted avg       0.84      0.84      0.84       300\n",
      "\n"
     ]
    }
   ],
   "source": [
    "from sklearn.linear_model import Perceptron\n",
    "\n",
    "# Perceptron\n",
    "model = Perceptron()\n",
    "model.fit(X_train, y_train)\n",
    "y_pred = model.predict(X_test)\n",
    "\n",
    "print(\"Perceptron:\\n\", classification_report(y_test, y_pred))\n"
   ]
  },
  {
   "cell_type": "markdown",
   "metadata": {},
   "source": [
    "## Linear Discriminant Analysis (线性判别分析, LDA)"
   ]
  },
  {
   "cell_type": "code",
   "execution_count": 4,
   "metadata": {},
   "outputs": [
    {
     "name": "stdout",
     "output_type": "stream",
     "text": [
      "Linear Discriminant Analysis:\n",
      "               precision    recall  f1-score   support\n",
      "\n",
      "           0       0.82      0.89      0.85       145\n",
      "           1       0.89      0.81      0.85       155\n",
      "\n",
      "    accuracy                           0.85       300\n",
      "   macro avg       0.85      0.85      0.85       300\n",
      "weighted avg       0.85      0.85      0.85       300\n",
      "\n"
     ]
    }
   ],
   "source": [
    "from sklearn.discriminant_analysis import LinearDiscriminantAnalysis\n",
    "\n",
    "# Linear Discriminant Analysis\n",
    "model = LinearDiscriminantAnalysis()\n",
    "model.fit(X_train, y_train)\n",
    "y_pred = model.predict(X_test)\n",
    "\n",
    "print(\"Linear Discriminant Analysis:\\n\", classification_report(y_test, y_pred))\n"
   ]
  },
  {
   "cell_type": "markdown",
   "metadata": {},
   "source": [
    "## SGD Classifier (随机梯度下降分类器)"
   ]
  },
  {
   "cell_type": "code",
   "execution_count": 6,
   "metadata": {},
   "outputs": [
    {
     "name": "stdout",
     "output_type": "stream",
     "text": [
      "SGD Classifier:\n",
      "               precision    recall  f1-score   support\n",
      "\n",
      "           0       0.78      0.83      0.81       145\n",
      "           1       0.83      0.78      0.81       155\n",
      "\n",
      "    accuracy                           0.81       300\n",
      "   macro avg       0.81      0.81      0.81       300\n",
      "weighted avg       0.81      0.81      0.81       300\n",
      "\n"
     ]
    }
   ],
   "source": [
    "from sklearn.linear_model import SGDClassifier\n",
    "\n",
    "# SGD Classifier\n",
    "model = SGDClassifier(loss='log_loss', random_state=42)\n",
    "model.fit(X_train, y_train)\n",
    "y_pred = model.predict(X_test)\n",
    "\n",
    "print(\"SGD Classifier:\\n\", classification_report(y_test, y_pred))\n"
   ]
  },
  {
   "cell_type": "markdown",
   "metadata": {},
   "source": [
    "## Passive Aggressive Classifier (被动攻击分类器)"
   ]
  },
  {
   "cell_type": "code",
   "execution_count": 7,
   "metadata": {},
   "outputs": [
    {
     "name": "stdout",
     "output_type": "stream",
     "text": [
      "Passive Aggressive Classifier:\n",
      "               precision    recall  f1-score   support\n",
      "\n",
      "           0       0.77      0.72      0.75       145\n",
      "           1       0.76      0.80      0.78       155\n",
      "\n",
      "    accuracy                           0.76       300\n",
      "   macro avg       0.76      0.76      0.76       300\n",
      "weighted avg       0.76      0.76      0.76       300\n",
      "\n"
     ]
    }
   ],
   "source": [
    "from sklearn.linear_model import PassiveAggressiveClassifier\n",
    "\n",
    "# Passive Aggressive Classifier\n",
    "model = PassiveAggressiveClassifier(random_state=42)\n",
    "model.fit(X_train, y_train)\n",
    "y_pred = model.predict(X_test)\n",
    "\n",
    "print(\"Passive Aggressive Classifier:\\n\", classification_report(y_test, y_pred))\n"
   ]
  },
  {
   "cell_type": "markdown",
   "metadata": {},
   "source": [
    "# ElasticNet Classifier (弹性网络分类器)"
   ]
  },
  {
   "cell_type": "code",
   "execution_count": 8,
   "metadata": {},
   "outputs": [
    {
     "name": "stdout",
     "output_type": "stream",
     "text": [
      "ElasticNet Classifier:\n",
      "               precision    recall  f1-score   support\n",
      "\n",
      "           0       0.80      0.89      0.84       145\n",
      "           1       0.88      0.79      0.83       155\n",
      "\n",
      "    accuracy                           0.84       300\n",
      "   macro avg       0.84      0.84      0.84       300\n",
      "weighted avg       0.84      0.84      0.84       300\n",
      "\n"
     ]
    }
   ],
   "source": [
    "from sklearn.linear_model import SGDClassifier\n",
    "\n",
    "# ElasticNet Classifier (using SGD with ElasticNet penalty)\n",
    "model = SGDClassifier(penalty='elasticnet', l1_ratio=0.5, random_state=42)\n",
    "model.fit(X_train, y_train)\n",
    "y_pred = model.predict(X_test)\n",
    "\n",
    "print(\"ElasticNet Classifier:\\n\", classification_report(y_test, y_pred))\n"
   ]
  },
  {
   "cell_type": "markdown",
   "metadata": {},
   "source": [
    "## Lasso Classifier (L1 正则分类器)"
   ]
  },
  {
   "cell_type": "code",
   "execution_count": 9,
   "metadata": {},
   "outputs": [
    {
     "name": "stdout",
     "output_type": "stream",
     "text": [
      "Lasso Classifier:\n",
      "               precision    recall  f1-score   support\n",
      "\n",
      "           0       0.74      0.88      0.81       145\n",
      "           1       0.87      0.71      0.78       155\n",
      "\n",
      "    accuracy                           0.79       300\n",
      "   macro avg       0.80      0.80      0.79       300\n",
      "weighted avg       0.81      0.79      0.79       300\n",
      "\n"
     ]
    }
   ],
   "source": [
    "# Lasso Classifier (using SGD with L1 penalty)\n",
    "model = SGDClassifier(penalty='l1', random_state=42)\n",
    "model.fit(X_train, y_train)\n",
    "y_pred = model.predict(X_test)\n",
    "\n",
    "print(\"Lasso Classifier:\\n\", classification_report(y_test, y_pred))\n"
   ]
  },
  {
   "cell_type": "markdown",
   "metadata": {},
   "source": [
    "## Multi-Class Logistic Regression\n",
    "（扩展逻辑回归以处理多分类任务）"
   ]
  },
  {
   "cell_type": "code",
   "execution_count": 10,
   "metadata": {},
   "outputs": [
    {
     "name": "stdout",
     "output_type": "stream",
     "text": [
      "Multi-Class Logistic Regression:\n",
      "               precision    recall  f1-score   support\n",
      "\n",
      "           0       0.82      0.88      0.85       145\n",
      "           1       0.88      0.82      0.85       155\n",
      "\n",
      "    accuracy                           0.85       300\n",
      "   macro avg       0.85      0.85      0.85       300\n",
      "weighted avg       0.85      0.85      0.85       300\n",
      "\n"
     ]
    }
   ],
   "source": [
    "# Multi-Class Logistic Regression\n",
    "model = LogisticRegression(multi_class='multinomial', solver='lbfgs')\n",
    "model.fit(X_train, y_train)\n",
    "y_pred = model.predict(X_test)\n",
    "\n",
    "print(\"Multi-Class Logistic Regression:\\n\", classification_report(y_test, y_pred))\n"
   ]
  },
  {
   "cell_type": "markdown",
   "metadata": {},
   "source": [
    "## LinearSVC (线性支持向量分类器)\n",
    "虽然属于支持向量机，但也被归为线性模型。"
   ]
  },
  {
   "cell_type": "code",
   "execution_count": 11,
   "metadata": {},
   "outputs": [
    {
     "name": "stdout",
     "output_type": "stream",
     "text": [
      "LinearSVC:\n",
      "               precision    recall  f1-score   support\n",
      "\n",
      "           0       0.81      0.88      0.84       145\n",
      "           1       0.88      0.81      0.84       155\n",
      "\n",
      "    accuracy                           0.84       300\n",
      "   macro avg       0.84      0.84      0.84       300\n",
      "weighted avg       0.85      0.84      0.84       300\n",
      "\n"
     ]
    },
    {
     "name": "stderr",
     "output_type": "stream",
     "text": [
      "d:\\Users\\epiph\\anaconda3\\Lib\\site-packages\\sklearn\\svm\\_classes.py:31: FutureWarning: The default value of `dual` will change from `True` to `'auto'` in 1.5. Set the value of `dual` explicitly to suppress the warning.\n",
      "  warnings.warn(\n"
     ]
    }
   ],
   "source": [
    "from sklearn.svm import LinearSVC\n",
    "\n",
    "# LinearSVC\n",
    "model = LinearSVC(random_state=42)\n",
    "model.fit(X_train, y_train)\n",
    "y_pred = model.predict(X_test)\n",
    "\n",
    "print(\"LinearSVC:\\n\", classification_report(y_test, y_pred))\n"
   ]
  },
  {
   "cell_type": "code",
   "execution_count": 13,
   "metadata": {},
   "outputs": [
    {
     "name": "stderr",
     "output_type": "stream",
     "text": [
      "d:\\Users\\epiph\\anaconda3\\Lib\\site-packages\\sklearn\\svm\\_classes.py:31: FutureWarning: The default value of `dual` will change from `True` to `'auto'` in 1.5. Set the value of `dual` explicitly to suppress the warning.\n",
      "  warnings.warn(\n"
     ]
    },
    {
     "data": {
      "image/png": "[encoded data removed]",
      "text/plain": [
       "<Figure size 1200x600 with 1 Axes>"
      ]
     },
     "metadata": {},
     "output_type": "display_data"
    }
   ],
   "source": [
    "import numpy as np\n",
    "import matplotlib.pyplot as plt\n",
    "from sklearn.datasets import make_classification\n",
    "from sklearn.model_selection import train_test_split\n",
    "from sklearn.metrics import accuracy_score\n",
    "from sklearn.linear_model import (\n",
    "    LogisticRegression, RidgeClassifier, Perceptron, SGDClassifier, PassiveAggressiveClassifier\n",
    ")\n",
    "from sklearn.discriminant_analysis import LinearDiscriminantAnalysis\n",
    "from sklearn.svm import LinearSVC\n",
    "\n",
    "# Generate synthetic dataset\n",
    "X, y = make_classification(n_samples=1000, n_features=20, n_classes=2, random_state=42)\n",
    "X_train, X_test, y_train, y_test = train_test_split(X, y, test_size=0.3, random_state=42)\n",
    "\n",
    "# Define all linear models\n",
    "models = {\n",
    "    \"Logistic Regression\": LogisticRegression(),\n",
    "    \"Ridge Classifier\": RidgeClassifier(),\n",
    "    \"Perceptron\": Perceptron(),\n",
    "    \"Linear Discriminant Analysis\": LinearDiscriminantAnalysis(),\n",
    "    \"SGD Classifier (log)\": SGDClassifier(loss='log_loss', random_state=42),\n",
    "    \"Passive Aggressive Classifier\": PassiveAggressiveClassifier(random_state=42),\n",
    "    \"ElasticNet Classifier\": SGDClassifier(penalty='elasticnet', l1_ratio=0.5, random_state=42),\n",
    "    \"Lasso Classifier\": SGDClassifier(penalty='l1', random_state=42),\n",
    "    \"LinearSVC\": LinearSVC(random_state=42)\n",
    "}\n",
    "\n",
    "# Train, predict and evaluate all models\n",
    "results = {}\n",
    "for name, model in models.items():\n",
    "    try:\n",
    "        model.fit(X_train, y_train)\n",
    "        y_pred = model.predict(X_test)\n",
    "        accuracy = accuracy_score(y_test, y_pred)\n",
    "        results[name] = accuracy\n",
    "    except Exception as e:\n",
    "        results[name] = f\"Failed: {str(e)}\"\n",
    "\n",
    "# Plot results\n",
    "plt.figure(figsize=(12, 6))\n",
    "names = list(results.keys())\n",
    "accuracies = [results[name] if isinstance(results[name], float) else 0 for name in names]\n",
    "\n",
    "plt.barh(names, accuracies, color='skyblue')\n",
    "plt.xlabel(\"Accuracy\")\n",
    "plt.title(\"Performance of Linear Classification Models\")\n",
    "plt.xlim(0, 1.0)\n",
    "plt.show()\n"
   ]
  },
  {
   "cell_type": "markdown",
   "metadata": {},
   "source": [
    "### **模型特点、适用场景及优缺点**\n",
    "\n",
    "#### **1. Logistic Regression**\n",
    "- **特点**：线性模型，输出为概率值，适合二分类和多分类任务。\n",
    "- **适用场景**：线性可分数据、概率解释需求。\n",
    "- **优点**：简单高效，易解释。\n",
    "- **缺点**：无法处理非线性关系。\n",
    "\n",
    "#### **2. Ridge Classifier**\n",
    "- **特点**：在线性模型中加入 L2 正则化，防止过拟合。\n",
    "- **适用场景**：高维数据，特征数大于样本数。\n",
    "- **优点**：能有效处理共线性问题。\n",
    "- **缺点**：对非线性关系无能为力。\n",
    "\n",
    "#### **3. Perceptron**\n",
    "- **特点**：感知机是最基础的线性分类模型，仅能处理线性可分数据。\n",
    "- **适用场景**：简单线性分类任务。\n",
    "- **优点**：实现简单。\n",
    "- **缺点**：仅适合线性可分数据，对噪声敏感。\n",
    "\n",
    "#### **4. Linear Discriminant Analysis (LDA)**\n",
    "- **特点**：通过最大化类间方差与类内方差比率寻找投影方向。\n",
    "- **适用场景**：二分类或多分类，数据分布接近高斯分布。\n",
    "- **优点**：易解释，适合降维。\n",
    "- **缺点**：假设数据服从高斯分布，鲁棒性较低。\n",
    "\n",
    "#### **5. SGD Classifier**\n",
    "- **特点**：随机梯度下降优化，支持大规模数据。\n",
    "- **适用场景**：高维数据，大规模数据。\n",
    "- **优点**：速度快，内存占用小。\n",
    "- **缺点**：对超参数（学习率等）敏感。\n",
    "\n",
    "#### **6. Passive Aggressive Classifier**\n",
    "- **特点**：用于在线学习的线性模型，适合增量数据。\n",
    "- **适用场景**：流数据，在线学习任务。\n",
    "- **优点**：快速，适合动态数据。\n",
    "- **缺点**：需要仔细调整参数。\n",
    "\n",
    "#### **7. ElasticNet Classifier**\n",
    "- **特点**：结合 L1 和 L2 正则化，适合稀疏数据。\n",
    "- **适用场景**：高维稀疏数据。\n",
    "- **优点**：同时具备 Lasso 和 Ridge 的优点。\n",
    "- **缺点**：参数（`l1_ratio`）调整复杂。\n",
    "\n",
    "#### **8. Lasso Classifier**\n",
    "- **特点**：在线性模型中加入 L1 正则化，自动选择特征。\n",
    "- **适用场景**：特征选择，稀疏数据。\n",
    "- **优点**：自动特征选择。\n",
    "- **缺点**：对高相关特征表现不佳。\n",
    "\n",
    "#### **9. LinearSVC**\n",
    "- **特点**：线性支持向量分类器，找到最大间隔的决策边界。\n",
    "- **适用场景**：线性可分数据。\n",
    "- **优点**：鲁棒性强。\n",
    "- **缺点**：对大规模数据较慢。\n",
    "\n",
    "---\n",
    "\n",
    "### **总结**\n",
    "- **线性模型的核心优势**是其速度快、易解释，但无法处理非线性关系。\n",
    "- **选择建议**：\n",
    "  - **简单二分类任务**：Logistic Regression、Perceptron。\n",
    "  - **高维数据**：Ridge Classifier、ElasticNet、Lasso。\n",
    "  - **大规模数据**：SGD Classifier、Passive Aggressive Classifier。\n",
    "  - **需要降维的分类任务**：Linear Discriminant Analysis。\n",
    "\n",
    "如需深入讨论或扩展测试，请随时告诉我！"
   ]
  }
 ],
 "metadata": {
  "kernelspec": {
   "display_name": "base",
   "language": "python",
   "name": "python3"
  },
  "language_info": {
   "codemirror_mode": {
    "name": "ipython",
    "version": 3
   },
   "file_extension": ".py",
   "mimetype": "text/x-python",
   "name": "python",
   "nbconvert_exporter": "python",
   "pygments_lexer": "ipython3",
   "version": "3.11.5"
  }
 },
 "nbformat": 4,
 "nbformat_minor": 2
}
