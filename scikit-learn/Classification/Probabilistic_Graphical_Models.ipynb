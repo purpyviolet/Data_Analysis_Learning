{
 "cells": [
  {
   "cell_type": "markdown",
   "metadata": {},
   "source": [
    "## 贝叶斯网络 (Bayesian Network)\n",
    "使用 pgmpy 库构建和推理贝叶斯网络："
   ]
  },
  {
   "cell_type": "code",
   "execution_count": 1,
   "metadata": {},
   "outputs": [
    {
     "name": "stderr",
     "output_type": "stream",
     "text": [
      "INFO:numexpr.utils:Note: NumExpr detected 12 cores but \"NUMEXPR_MAX_THREADS\" not set, so enforcing safe limit of 8.\n",
      "INFO:numexpr.utils:NumExpr defaulting to 8 threads.\n"
     ]
    },
    {
     "data": {
      "application/vnd.jupyter.widget-view+json": {
       "model_id": "abd8ed82d6844d538c2f02545fe69acb",
       "version_major": 2,
       "version_minor": 0
      },
      "text/plain": [
       "0it [00:00, ?it/s]"
      ]
     },
     "metadata": {},
     "output_type": "display_data"
    },
    {
     "data": {
      "application/vnd.jupyter.widget-view+json": {
       "model_id": "e2551bc09b404341867ca49655bf5ba8",
       "version_major": 2,
       "version_minor": 0
      },
      "text/plain": [
       "0it [00:00, ?it/s]"
      ]
     },
     "metadata": {},
     "output_type": "display_data"
    },
    {
     "name": "stdout",
     "output_type": "stream",
     "text": [
      "Inference result: {'Cough': 1}\n"
     ]
    }
   ],
   "source": [
    "from pgmpy.models import BayesianNetwork\n",
    "from pgmpy.estimators import MaximumLikelihoodEstimator\n",
    "from pgmpy.inference import VariableElimination\n",
    "import pandas as pd\n",
    "\n",
    "# Create a toy dataset\n",
    "data = pd.DataFrame({\n",
    "    'Disease': [1, 1, 0, 1, 0, 0, 1],\n",
    "    'Cough': [1, 0, 0, 1, 0, 0, 1],\n",
    "    'Fever': [1, 1, 0, 1, 1, 0, 0]\n",
    "})\n",
    "\n",
    "# Define the Bayesian Network structure\n",
    "model = BayesianNetwork([('Disease', 'Cough'), ('Disease', 'Fever')])\n",
    "\n",
    "# Fit the model using maximum likelihood estimation\n",
    "model.fit(data, estimator=MaximumLikelihoodEstimator)\n",
    "\n",
    "# Perform inference\n",
    "inference = VariableElimination(model)\n",
    "result = inference.map_query(variables=['Cough'], evidence={'Disease': 1})\n",
    "print(\"Inference result:\", result)\n"
   ]
  },
  {
   "cell_type": "markdown",
   "metadata": {},
   "source": [
    "## 隐马尔可夫模型 (Hidden Markov Model, HMM)\n",
    "使用 hmmlearn 库实现隐马尔可夫模型："
   ]
  },
  {
   "cell_type": "code",
   "execution_count": 2,
   "metadata": {},
   "outputs": [
    {
     "name": "stderr",
     "output_type": "stream",
     "text": [
      "WARNING:hmmlearn.base:Fitting a model with 14 free scalar parameters with only 6 data points will result in a degenerate solution.\n"
     ]
    },
    {
     "name": "stdout",
     "output_type": "stream",
     "text": [
      "Hidden states: [0 1 1 2 2 2]\n"
     ]
    }
   ],
   "source": [
    "from hmmlearn import hmm\n",
    "import numpy as np\n",
    "\n",
    "# Create a toy dataset for HMM\n",
    "X = np.array([[1], [2], [3], [4], [5], [6]])\n",
    "lengths = [len(X)]\n",
    "\n",
    "# Define and train an HMM model\n",
    "model = hmm.GaussianHMM(n_components=3, covariance_type=\"diag\", n_iter=100, random_state=42)\n",
    "model.fit(X, lengths)\n",
    "\n",
    "# Predict the hidden states\n",
    "hidden_states = model.predict(X)\n",
    "print(\"Hidden states:\", hidden_states)\n"
   ]
  },
  {
   "cell_type": "markdown",
   "metadata": {},
   "source": [
    "## 马尔可夫随机场 (Markov Random Fields, MRF)\n",
    "pgmpy 可用于构建无向图模型来表示马尔可夫随机场："
   ]
  },
  {
   "cell_type": "code",
   "execution_count": 14,
   "metadata": {},
   "outputs": [
    {
     "name": "stdout",
     "output_type": "stream",
     "text": [
      "Model: MarkovNetwork with 3 nodes and 2 edges\n",
      "Factors: [<DiscreteFactor representing phi(A:2) at 0x20f988e0a90>, <DiscreteFactor representing phi(B:2) at 0x20f988e16d0>, <DiscreteFactor representing phi(A:2, B:2) at 0x20f988e3a90>, <DiscreteFactor representing phi(B:2, C:2) at 0x20f988e0dd0>]\n",
      "Joint Probability for {'A': 0, 'B': 1, 'C': 0}: 0.0180\n"
     ]
    }
   ],
   "source": [
    "from pgmpy.models import MarkovNetwork\n",
    "from pgmpy.factors.discrete import DiscreteFactor\n",
    "import numpy as np\n",
    "\n",
    "# 创建马尔可夫网络\n",
    "model = MarkovNetwork()\n",
    "\n",
    "# 添加节点\n",
    "model.add_nodes_from(['A', 'B', 'C'])\n",
    "\n",
    "# 添加边 (定义节点之间的连接)\n",
    "model.add_edges_from([('A', 'B'), ('B', 'C')])\n",
    "\n",
    "# 定义节点的单变量势函数\n",
    "# A 有 2 个状态 (0 和 1)\n",
    "phi_a = DiscreteFactor(['A'], cardinality=[2], values=[0.6, 0.4])\n",
    "\n",
    "# B 有 2 个状态 (0 和 1)\n",
    "phi_b = DiscreteFactor(['B'], cardinality=[2], values=[0.5, 0.5])\n",
    "\n",
    "# 定义边的联合势函数\n",
    "# A 和 B 的势函数\n",
    "phi_ab = DiscreteFactor(['A', 'B'], cardinality=[2, 2], values=[1.0, 0.3, 0.3, 1.0])\n",
    "\n",
    "# B 和 C 的势函数\n",
    "phi_bc = DiscreteFactor(['B', 'C'], cardinality=[2, 2], values=[1.0, 0.2, 0.2, 1.0])\n",
    "\n",
    "# 添加势函数到模型\n",
    "model.add_factors(phi_a, phi_b, phi_ab, phi_bc)\n",
    "\n",
    "# 检查模型结构和势函数是否正确\n",
    "model.check_model()\n",
    "\n",
    "# 打印模型信息\n",
    "print(\"Model:\", model)\n",
    "print(\"Factors:\", model.get_factors())\n",
    "\n",
    "# 计算某个特定分配的联合概率\n",
    "# 例如 P(A=0, B=1, C=0)\n",
    "assignments = {'A': 0, 'B': 1, 'C': 0}\n",
    "joint_prob = phi_a.reduce([('A', assignments['A'])], inplace=False) * \\\n",
    "              phi_b.reduce([('B', assignments['B'])], inplace=False) * \\\n",
    "              phi_ab.reduce([('A', assignments['A']), ('B', assignments['B'])], inplace=False) * \\\n",
    "              phi_bc.reduce([('B', assignments['B']), ('C', assignments['C'])], inplace=False)\n",
    "\n",
    "# 计算联合概率值\n",
    "joint_prob_value = joint_prob.values\n",
    "print(f\"Joint Probability for {assignments}: {joint_prob_value:.4f}\")\n"
   ]
  },
  {
   "cell_type": "markdown",
   "metadata": {},
   "source": [
    "### **模型特点、适用场景及优缺点**\n",
    "\n",
    "#### **1. 贝叶斯网络**\n",
    "- **特点**：基于有向图表示变量之间的因果关系。\n",
    "- **适用场景**：诊断问题、决策支持、风险分析。\n",
    "- **优点**：\n",
    "  - 能清晰表示因果关系。\n",
    "  - 高效推理复杂的概率关系。\n",
    "- **缺点**：\n",
    "  - 网络结构需要人工构造或学习，较复杂。\n",
    "  - 高维数据中，推理和训练成本较高。\n",
    "\n",
    "---\n",
    "\n",
    "#### **2. 隐马尔可夫模型 (HMM)**\n",
    "- **特点**：模型包含隐变量，适合时间序列数据。\n",
    "- **适用场景**：语音识别、基因序列分析、时间序列预测。\n",
    "- **优点**：\n",
    "  - 能处理隐含的动态过程。\n",
    "  - 易于实现和扩展。\n",
    "- **缺点**：\n",
    "  - 假设状态间独立性，不适合所有数据。\n",
    "  - 参数估计复杂，需大量数据。\n",
    "\n",
    "---\n",
    "\n",
    "#### **3. 马尔可夫随机场 (MRF)**\n",
    "- **特点**：基于无向图表示变量间的条件独立关系。\n",
    "- **适用场景**：图像分割、语义分析、自然语言处理。\n",
    "- **优点**：\n",
    "  - 灵活性强，适合复杂的无向依赖关系。\n",
    "  - 能处理高维数据。\n",
    "- **缺点**：\n",
    "  - 推理和学习成本较高。\n",
    "  - 难以确定和学习潜在的图结构。\n",
    "\n",
    "---\n",
    "\n",
    "### **选型建议**\n",
    "- **因果关系分析**：选择贝叶斯网络。\n",
    "- **时间序列分析**：选择隐马尔可夫模型。\n",
    "- **图像/语义分析**：选择马尔可夫随机场。\n",
    "\n"
   ]
  }
 ],
 "metadata": {
  "kernelspec": {
   "display_name": "base",
   "language": "python",
   "name": "python3"
  },
  "language_info": {
   "codemirror_mode": {
    "name": "ipython",
    "version": 3
   },
   "file_extension": ".py",
   "mimetype": "text/x-python",
   "name": "python",
   "nbconvert_exporter": "python",
   "pygments_lexer": "ipython3",
   "version": "3.11.5"
  }
 },
 "nbformat": 4,
 "nbformat_minor": 2
}
